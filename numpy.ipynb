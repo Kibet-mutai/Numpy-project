{
 "cells": [
  {
   "cell_type": "code",
   "execution_count": 1,
   "metadata": {},
   "outputs": [],
   "source": [
    "import numpy as np"
   ]
  },
  {
   "cell_type": "code",
   "execution_count": 9,
   "metadata": {},
   "outputs": [
    {
     "data": {
      "text/plain": [
       "array([[ 2,  4,  6],\n",
       "       [ 8, 10, 12]])"
      ]
     },
     "execution_count": 9,
     "metadata": {},
     "output_type": "execute_result"
    }
   ],
   "source": [
    "matrix_1 = np.array([[1, 2, 3],[4,5,6]])\n",
    "matrix_1\n",
    "matrix_2 = np.array([2,2])\n",
    "\n",
    "mult = np.multiply(matrix_1, matrix_2 [:, None])\n",
    "mult"
   ]
  },
  {
   "cell_type": "code",
   "execution_count": 11,
   "metadata": {},
   "outputs": [
    {
     "data": {
      "text/plain": [
       "array([nan,  3.])"
      ]
     },
     "execution_count": 11,
     "metadata": {},
     "output_type": "execute_result"
    }
   ],
   "source": [
    "nan1 = np.array([np.NAN, 3])\n",
    "nan1"
   ]
  },
  {
   "cell_type": "code",
   "execution_count": 17,
   "metadata": {},
   "outputs": [],
   "source": [
    "np.set_printoptions(suppress=True)"
   ]
  },
  {
   "cell_type": "code",
   "execution_count": 18,
   "metadata": {},
   "outputs": [
    {
     "name": "stderr",
     "output_type": "stream",
     "text": [
      "Downloading...\n",
      "From: https://drive.google.com/uc?id=13fyESiH1ZEnMV6eabAyhe20t4W6peEWK\n",
      "To: /home/kibet/Documents/Colab/WK1_Airbnb_Amsterdam_listings_proj.csv\n",
      "100%|██████████| 246k/246k [00:00<00:00, 451kB/s]\n"
     ]
    },
    {
     "data": {
      "text/plain": [
       "'WK1_Airbnb_Amsterdam_listings_proj.csv'"
      ]
     },
     "execution_count": 18,
     "metadata": {},
     "output_type": "execute_result"
    }
   ],
   "source": [
    "import os\n",
    "import shutil\n",
    "\n",
    "import gdown\n",
    "from numpy import genfromtxt\n",
    "\n",
    "# Download file from Google Drive\n",
    "# This file is based on data from: http://insideairbnb.com/get-the-data/\n",
    "file_id_1 = \"13fyESiH1ZEnMV6eabAyhe20t4W6peEWK\"\n",
    "downloaded_file_1 = \"WK1_Airbnb_Amsterdam_listings_proj.csv\"\n",
    "\n",
    "# Download the file from Google Drive\n",
    "gdown.download(id=file_id_1, output=downloaded_file_1)"
   ]
  },
  {
   "cell_type": "code",
   "execution_count": 21,
   "metadata": {},
   "outputs": [
    {
     "data": {
      "text/plain": [
       "array([['', '0', '1', '2'],\n",
       "       ['id', '23726706', '35815036', '31553121'],\n",
       "       ['price', '$88.00', '$105.00', '$152.00'],\n",
       "       ['latitude', '52.34916', '52.42419', '52.43237'],\n",
       "       ['longitude', '4.97879', '4.95689', '4.91821']], dtype='<U18')"
      ]
     },
     "execution_count": 21,
     "metadata": {},
     "output_type": "execute_result"
    }
   ],
   "source": [
    "from numpy import genfromtxt\n",
    "data = np.genfromtxt(\"/home/kibet/Documents/Colab/WK1_Airbnb_Amsterdam_listings_proj.csv\", delimiter=\"|\", dtype=\"unicode\")\n",
    "data[:, :4]"
   ]
  },
  {
   "cell_type": "code",
   "execution_count": 22,
   "metadata": {},
   "outputs": [
    {
     "data": {
      "text/plain": [
       "array([['23726706', '35815036', '31553121', '34745823', '44586947'],\n",
       "       ['$88.00', '$105.00', '$152.00', '$87.00', '$160.00'],\n",
       "       ['52.34916', '52.42419', '52.43237', '52.2962', '52.31475'],\n",
       "       ['4.97879', '4.95689', '4.91821', '5.01231', '5.0303']],\n",
       "      dtype='<U18')"
      ]
     },
     "execution_count": 22,
     "metadata": {},
     "output_type": "execute_result"
    }
   ],
   "source": [
    "# Remove first column and row\n",
    "\n",
    "clean_data = data[1:,1:]\n",
    "clean_data[:, :5]"
   ]
  },
  {
   "cell_type": "code",
   "execution_count": 25,
   "metadata": {},
   "outputs": [
    {
     "data": {
      "text/plain": [
       "array([['23726706', '$88.00', '52.34916', '4.97879'],\n",
       "       ['35815036', '$105.00', '52.42419', '4.95689'],\n",
       "       ['31553121', '$152.00', '52.43237', '4.91821'],\n",
       "       ['34745823', '$87.00', '52.2962', '5.01231'],\n",
       "       ['44586947', '$160.00', '52.31475', '5.0303']], dtype='<U18')"
      ]
     },
     "execution_count": 25,
     "metadata": {},
     "output_type": "execute_result"
    }
   ],
   "source": [
    "#shift the matrix 90 degrees\n",
    "\n",
    "clean_data = np.transpose(data[1:,1:])\n",
    "\n",
    "#airbnb_id, price in usd, latitude and longitude\n",
    "clean_data[:5, :5]"
   ]
  },
  {
   "cell_type": "code",
   "execution_count": 26,
   "metadata": {},
   "outputs": [
    {
     "data": {
      "text/plain": [
       "array([['23726706', '88.00', '52.34916', '4.97879'],\n",
       "       ['35815036', '105.00', '52.42419', '4.95689'],\n",
       "       ['31553121', '152.00', '52.43237', '4.91821'],\n",
       "       ['34745823', '87.00', '52.2962', '5.01231'],\n",
       "       ['44586947', '160.00', '52.31475', '5.0303']], dtype='<U18')"
      ]
     },
     "execution_count": 26,
     "metadata": {},
     "output_type": "execute_result"
    }
   ],
   "source": [
    "# remove $ and comma\n",
    "clean_data = np.char.replace(clean_data, '$', '')\n",
    "clean_data = np.char.replace(clean_data, ',', '')\n",
    "clean_data[:5, :5]"
   ]
  },
  {
   "cell_type": "code",
   "execution_count": 27,
   "metadata": {},
   "outputs": [
    {
     "data": {
      "text/plain": [
       "array([], dtype='<U18')"
      ]
     },
     "execution_count": 27,
     "metadata": {},
     "output_type": "execute_result"
    }
   ],
   "source": [
    "#Check if $ or comma is still present \n",
    "\n",
    "clean_data[np.char.find(clean_data, '$') > -1]\n",
    "clean_data[np.char.find(clean_data, ',') > -1]"
   ]
  },
  {
   "cell_type": "code",
   "execution_count": 29,
   "metadata": {},
   "outputs": [
    {
     "data": {
      "text/plain": [
       "array([[23726706.     ,       88.     ,       52.34916,        4.97879],\n",
       "       [35815036.     ,      105.     ,       52.42419,        4.95689],\n",
       "       [31553120.     ,      152.     ,       52.43237,        4.91821],\n",
       "       [34745824.     ,       87.     ,       52.2962 ,        5.01231],\n",
       "       [44586948.     ,      160.     ,       52.31475,        5.0303 ]],\n",
       "      dtype=float32)"
      ]
     },
     "execution_count": 29,
     "metadata": {},
     "output_type": "execute_result"
    }
   ],
   "source": [
    "# change unicode to float\n",
    "clean_data = clean_data.astype(np.float32)\n",
    "clean_data[:5, :5]"
   ]
  },
  {
   "cell_type": "code",
   "execution_count": 30,
   "metadata": {},
   "outputs": [
    {
     "data": {
      "text/plain": [
       "array([ 88., 105., 152., ..., 180., 174.,  65.], dtype=float32)"
      ]
     },
     "execution_count": 30,
     "metadata": {},
     "output_type": "execute_result"
    }
   ],
   "source": [
    "# Round down the new currency column to 2 decimals\n",
    "clean_data[:, 1] = np.round(clean_data[:, 1], 2)\n",
    "clean_data[:, 1]"
   ]
  }
 ],
 "metadata": {
  "kernelspec": {
   "display_name": "pit",
   "language": "python",
   "name": "python3"
  },
  "language_info": {
   "codemirror_mode": {
    "name": "ipython",
    "version": 3
   },
   "file_extension": ".py",
   "mimetype": "text/x-python",
   "name": "python",
   "nbconvert_exporter": "python",
   "pygments_lexer": "ipython3",
   "version": "3.10.6"
  },
  "orig_nbformat": 4
 },
 "nbformat": 4,
 "nbformat_minor": 2
}
